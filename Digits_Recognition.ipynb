{
  "nbformat": 4,
  "nbformat_minor": 0,
  "metadata": {
    "colab": {
      "name": "Digits Recognition.ipynb",
      "provenance": []
    },
    "kernelspec": {
      "name": "python3",
      "display_name": "Python 3"
    }
  },
  "cells": [
    {
      "cell_type": "code",
      "metadata": {
        "id": "pr3Jty8KEaoP"
      },
      "source": [
        "from sklearn.model_selection import train_test_split\n",
        "from sklearn.neural_network import MLPClassifier\n",
        "from sklearn.metrics import confusion_matrix\n",
        "from sklearn import svm as s\n",
        "import numpy as np\n",
        "import os\n",
        "import cv2\n",
        "\n",
        "import scipy.ndimage\n",
        "\n",
        "from sklearn.neighbors import KNeighborsClassifier\n",
        "from matplotlib import pyplot as plt"
      ],
      "execution_count": 1,
      "outputs": []
    },
    {
      "cell_type": "code",
      "metadata": {
        "id": "6DvTBLjvEiWD"
      },
      "source": [
        "def mlp(data, labels):\n",
        "\n",
        "    # Split data into test and train data\n",
        "    x_train, x_test, y_train, y_test = train_test_split(data, labels, test_size=0.33, random_state=42)\n",
        "\n",
        "    # Multi layer perceptron class instance\n",
        "    clf = MLPClassifier(solver='adam', alpha=1e-5, hidden_layer_sizes=3000, random_state=1, max_iter=200000)\n",
        "\n",
        "    # Training\n",
        "    clf.fit(x_train, y_train)\n",
        "\n",
        "    # Testing\n",
        "    y_pred = clf.predict(x_test)\n",
        "\n",
        "    # Confusion matrix\n",
        "    cm = confusion_matrix(y_test, y_pred)\n",
        "\n",
        "    # Accuracy\n",
        "    accuracy = clf.score(x_test, y_test)\n",
        "\n",
        "    print(\"\\n-- Multi Layer Perceptron --\")\n",
        "    print(\"Training completed\")\n",
        "    print(\"Accuracy : \" + str(accuracy))\n",
        "    print(\"Confusion Matrix :\")\n",
        "    print(cm)"
      ],
      "execution_count": 2,
      "outputs": []
    },
    {
      "cell_type": "code",
      "metadata": {
        "id": "i8Nz9G59EiZG"
      },
      "source": [
        "def knn(data, labels):\n",
        "\n",
        "    # Split data into test and train data\n",
        "    x_train, x_test, y_train, y_test = train_test_split(data, labels, test_size=0.33, random_state=42)\n",
        "\n",
        "    # KNN class instance\n",
        "    clf = KNeighborsClassifier(n_neighbors=3)\n",
        "\n",
        "    # Training\n",
        "    clf.fit(x_train, y_train)\n",
        "\n",
        "    # Testing\n",
        "    y_pred = clf.predict(x_test)\n",
        "\n",
        "    # Confusion matrix\n",
        "    cm = confusion_matrix(y_test, y_pred)\n",
        "\n",
        "    # Accuracy\n",
        "    accuracy = clf.score(x_test, y_test)\n",
        "\n",
        "    print(\"\\n-- K Nearest Neighbors --\")\n",
        "    print(\"Training completed\")\n",
        "    print(\"Accuracy : \" + str(accuracy))\n",
        "    print(\"Confusion Matrix :\")\n",
        "    print(cm)\n"
      ],
      "execution_count": 3,
      "outputs": []
    },
    {
      "cell_type": "code",
      "metadata": {
        "id": "fyMPMOM7EifI"
      },
      "source": [
        "def svm(data, labels):\n",
        "\n",
        "    # Split data into test and train data\n",
        "    x_train, x_test, y_train, y_test = train_test_split(data, labels, test_size=0.33, random_state=42)\n",
        "\n",
        "    # SVM class instance\n",
        "    clf = s.SVC(kernel='linear', C=1, gamma=1)\n",
        "\n",
        "    # Training\n",
        "    clf.fit(x_train, y_train)\n",
        "\n",
        "    # Testing\n",
        "    y_pred = clf.predict(x_test)\n",
        "\n",
        "    # Confusion matrix\n",
        "    cm = confusion_matrix(y_test, y_pred)\n",
        "\n",
        "    # Accuracy\n",
        "    accuracy = clf.score(x_test, y_test)\n",
        "\n",
        "    print(\"\\n-- SVM --\")\n",
        "    print(\"Training completed\")\n",
        "    print(\"Test Accuracy : \" + str(accuracy))\n",
        "    print(\"Confusion Matrix :\")\n",
        "    print(cm)\n",
        "    return clf\n"
      ],
      "execution_count": 4,
      "outputs": []
    },
    {
      "cell_type": "code",
      "metadata": {
        "id": "3d-_QX41EilU"
      },
      "source": [
        "def load_dataset(input_path):\n",
        "    \"\"\"\n",
        "    This method load images and their labels from a folder, each folder name is label for all images that contain\n",
        "    the folder\n",
        "    :param input_path: Folder path where all data exist\n",
        "    :return: two list contains images and their labels\n",
        "    \"\"\"\n",
        "\n",
        "    # List that will contain images\n",
        "    features_list = []\n",
        "\n",
        "    # List that will contain labels\n",
        "    features_label = []\n",
        "\n",
        "    # Load all directory\n",
        "    for root, dirs, files in os.walk(input_path):\n",
        "\n",
        "        # Filter through every folder\n",
        "        for dir in dirs:\n",
        "\n",
        "            # Filter all files in the folder\n",
        "            for filename in os.listdir(input_path + \"/\" + dir):\n",
        "\n",
        "                # Load image\n",
        "                training_digit_image = cv2.imread(input_path + \"/\" + dir + \"/\" + filename)\n",
        "\n",
        "                # BGR to Gray\n",
        "                gray = cv2.cvtColor(training_digit_image, cv2.COLOR_BGR2GRAY)\n",
        "\n",
        "                # convert to one dim vector\n",
        "                df = np.array(gray).ravel()\n",
        "\n",
        "                # Append image and it's label to training list\n",
        "                features_list.append(df)\n",
        "                features_label.append(dir)\n",
        "\n",
        "    return features_list, features_label"
      ],
      "execution_count": 5,
      "outputs": []
    },
    {
      "cell_type": "code",
      "metadata": {
        "id": "wNL6_jPcEivS"
      },
      "source": [
        "# Load Data\n",
        "data, labels = load_dataset(\"/content/drive/My Drive/digits recognition\")"
      ],
      "execution_count": 6,
      "outputs": []
    },
    {
      "cell_type": "code",
      "metadata": {
        "id": "9IRfBkBUEiyf",
        "outputId": "a6fff33a-8b62-415a-8846-3345fca9c964",
        "colab": {
          "base_uri": "https://localhost:8080/",
          "height": 833
        }
      },
      "source": [
        "clf=svm(data, labels)\n",
        "mlp(data, labels)\n",
        "knn(data, labels)"
      ],
      "execution_count": 7,
      "outputs": [
        {
          "output_type": "stream",
          "text": [
            "\n",
            "-- SVM --\n",
            "Training completed\n",
            "Test Accuracy : 0.9612403100775194\n",
            "Confusion Matrix :\n",
            "[[11  0  0  0  0  0  0  0  0  0  0]\n",
            " [ 0 12  0  0  0  0  0  0  0  0  0]\n",
            " [ 0  0 12  0  0  0  0  0  0  0  0]\n",
            " [ 0  0  0 10  0  0  0  0  0  0  0]\n",
            " [ 0  0  0  0 13  0  0  0  0  0  0]\n",
            " [ 0  0  0  1  0 12  2  0  0  0  0]\n",
            " [ 0  0  0  0  0  0 10  0  0  0  0]\n",
            " [ 0  0  0  0  0  0  0 14  0  0  0]\n",
            " [ 0  0  0  0  0  0  1  0  9  0  0]\n",
            " [ 0  0  0  0  0  0  0  0  1  9  0]\n",
            " [ 0  0  0  0  0  0  0  0  0  0 12]]\n",
            "\n",
            "-- Multi Layer Perceptron --\n",
            "Training completed\n",
            "Accuracy : 0.9302325581395349\n",
            "Confusion Matrix :\n",
            "[[11  0  0  0  0  0  0  0  0  0  0]\n",
            " [ 0 12  0  0  0  0  0  0  0  0  0]\n",
            " [ 0  0 12  0  0  0  0  0  0  0  0]\n",
            " [ 0  0  0 10  0  0  0  0  0  0  0]\n",
            " [ 0  1  0  0 11  0  0  0  1  0  0]\n",
            " [ 0  0  0  0  0 13  0  0  0  2  0]\n",
            " [ 0  0  0  0  0  1  9  0  0  0  0]\n",
            " [ 0  0  0  0  0  0  0 14  0  0  0]\n",
            " [ 0  0  0  1  0  0  0  0  7  2  0]\n",
            " [ 1  0  0  0  0  0  0  0  0  9  0]\n",
            " [ 0  0  0  0  0  0  0  0  0  0 12]]\n",
            "\n",
            "-- K Nearest Neighbors --\n",
            "Training completed\n",
            "Accuracy : 0.9224806201550387\n",
            "Confusion Matrix :\n",
            "[[11  0  0  0  0  0  0  0  0  0  0]\n",
            " [ 0 12  0  0  0  0  0  0  0  0  0]\n",
            " [ 0  0 12  0  0  0  0  0  0  0  0]\n",
            " [ 0  0  0 10  0  0  0  0  0  0  0]\n",
            " [ 0  0  0  0 13  0  0  0  0  0  0]\n",
            " [ 0  0  0  1  0 10  4  0  0  0  0]\n",
            " [ 0  0  0  0  0  0 10  0  0  0  0]\n",
            " [ 0  0  1  0  0  0  0 13  0  0  0]\n",
            " [ 1  0  0  1  0  0  0  0  8  0  0]\n",
            " [ 1  0  0  1  0  0  0  0  0  8  0]\n",
            " [ 0  0  0  0  0  0  0  0  0  0 12]]\n"
          ],
          "name": "stdout"
        }
      ]
    },
    {
      "cell_type": "code",
      "metadata": {
        "id": "ZjTayCJAEi4u"
      },
      "source": [
        "def square(img):\n",
        "    \"\"\"\n",
        "    This function resize non square image to square one (height == width)\n",
        "    :param img: input image as numpy array\n",
        "    :return: numpy array\n",
        "    \"\"\"\n",
        "\n",
        "    # image after making height equal to width\n",
        "    squared_image = img\n",
        "\n",
        "    # Get image height and width\n",
        "    h = img.shape[0]\n",
        "    w = img.shape[1]\n",
        "\n",
        "    # In case height superior than width\n",
        "    if h > w:\n",
        "        diff = h-w\n",
        "        if diff % 2 == 0:\n",
        "            x1 = np.zeros(shape=(h, diff//2))\n",
        "            x2 = x1\n",
        "        else:\n",
        "            x1 = np.zeros(shape=(h, diff//2))\n",
        "            x2 = np.zeros(shape=(h, (diff//2)+1))\n",
        "\n",
        "        squared_image = np.concatenate((x1, img, x2), axis=1)\n",
        "\n",
        "    # In case height inferior than width\n",
        "    if h < w:\n",
        "        diff = w-h\n",
        "        if diff % 2 == 0:\n",
        "            x1 = np.zeros(shape=(diff//2, w))\n",
        "            x2 = x1\n",
        "        else:\n",
        "            x1 = np.zeros(shape=(diff//2, w))\n",
        "            x2 = np.zeros(shape=((diff//2)+1, w))\n",
        "\n",
        "        squared_image = np.concatenate((x1, img, x2), axis=0)\n",
        "\n",
        "    return squared_image"
      ],
      "execution_count": 8,
      "outputs": []
    },
    {
      "cell_type": "code",
      "metadata": {
        "id": "cusuYLhiEisI",
        "outputId": "2c39ef4a-eec9-42bf-8e85-3c63fea7d97c",
        "colab": {
          "base_uri": "https://localhost:8080/",
          "height": 34
        }
      },
      "source": [
        "# the variable \"caracter_list_image\" is the output of the segmentation phase\n",
        "digits=caracter_list_image\n",
        "# List of predicted classes\n",
        "prediction = []\n",
        "\n",
        "for i in range(len(digits)):\n",
        "\n",
        "    # Get digit\n",
        "    digit = digits[i]\n",
        "\n",
        "    # Make the image squared\n",
        "    squared_digit = square(digit)\n",
        "\n",
        "    # Resize the image\n",
        "    resized_digit = cv2.resize(squared_digit, (20, 20), interpolation=cv2.INTER_AREA)\n",
        "\n",
        "    # Convert to one dim vector\n",
        "    one_vector_digit = np.array(resized_digit).ravel()\n",
        "\n",
        "    # Predict digit class\n",
        "    resultat = clf.predict([one_vector_digit])\n",
        "\n",
        "    # Append to total predictions\n",
        "    prediction.append(resultat[0])\n",
        "\n",
        "print(prediction)"
      ],
      "execution_count": 11,
      "outputs": [
        {
          "output_type": "stream",
          "text": [
            "['1', '3', '8', 'tunisie', '3', '1', '6', '5']\n"
          ],
          "name": "stdout"
        }
      ]
    }
  ]
}